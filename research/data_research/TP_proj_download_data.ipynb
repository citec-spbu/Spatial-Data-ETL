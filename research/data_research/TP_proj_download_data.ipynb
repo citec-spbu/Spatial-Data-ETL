{
  "cells": [
    {
      "cell_type": "code",
      "source": [
        "pip install geojson"
      ],
      "metadata": {
        "colab": {
          "base_uri": "https://localhost:8080/"
        },
        "id": "yg59hAhD5kge",
        "outputId": "f0d35873-4930-4f2d-aabb-c036970848b4"
      },
      "id": "yg59hAhD5kge",
      "execution_count": null,
      "outputs": [
        {
          "output_type": "stream",
          "name": "stdout",
          "text": [
            "Collecting geojson\n",
            "  Downloading geojson-3.1.0-py3-none-any.whl (15 kB)\n",
            "Installing collected packages: geojson\n",
            "Successfully installed geojson-3.1.0\n"
          ]
        }
      ]
    },
    {
      "cell_type": "code",
      "source": [
        "pip install overpy"
      ],
      "metadata": {
        "colab": {
          "base_uri": "https://localhost:8080/"
        },
        "id": "HltWDLkF5c41",
        "outputId": "45d02138-dc05-4a81-de5f-f2765f327d76"
      },
      "id": "HltWDLkF5c41",
      "execution_count": null,
      "outputs": [
        {
          "output_type": "stream",
          "name": "stdout",
          "text": [
            "Requirement already satisfied: overpy in /usr/local/lib/python3.10/dist-packages (0.7)\n"
          ]
        }
      ]
    },
    {
      "cell_type": "code",
      "execution_count": null,
      "id": "eec08437-3f6f-42ee-955d-6ea9c6eabeb5",
      "metadata": {
        "id": "eec08437-3f6f-42ee-955d-6ea9c6eabeb5"
      },
      "outputs": [],
      "source": [
        "import warnings\n",
        "warnings.filterwarnings(\"ignore\")"
      ]
    },
    {
      "cell_type": "code",
      "execution_count": null,
      "id": "ca5f5615-6fab-403b-a14b-387493549e9a",
      "metadata": {
        "id": "ca5f5615-6fab-403b-a14b-387493549e9a"
      },
      "outputs": [],
      "source": [
        "bbox = (50.745,7.17,50.75,7.18)"
      ]
    },
    {
      "cell_type": "code",
      "execution_count": null,
      "id": "db152bea-3d94-43af-863c-74b7448a24b5",
      "metadata": {
        "id": "db152bea-3d94-43af-863c-74b7448a24b5"
      },
      "outputs": [],
      "source": [
        "def overpass_to_geojson(result):\n",
        "    features = []\n",
        "\n",
        "    for node in result.nodes:\n",
        "        feature = geojson.Feature(geometry=geojson.Point((node.lon, node.lat)), properties=node.tags)\n",
        "        features.append(feature)\n",
        "\n",
        "    return geojson.FeatureCollection(features)"
      ]
    },
    {
      "cell_type": "code",
      "execution_count": null,
      "id": "358cfa4a-8794-4ffd-b542-0b74595496e1",
      "metadata": {
        "colab": {
          "base_uri": "https://localhost:8080/",
          "height": 711
        },
        "id": "358cfa4a-8794-4ffd-b542-0b74595496e1",
        "outputId": "64e1c8a8-f358-42ed-f759-55beb1a59442"
      },
      "outputs": [
        {
          "output_type": "execute_result",
          "data": {
            "text/plain": [
              "<folium.folium.Map at 0x7ed9a9a1a440>"
            ],
            "text/html": [
              "<div style=\"width:100%;\"><div style=\"position:relative;width:100%;height:0;padding-bottom:60%;\"><span style=\"color:#565656\">Make this Notebook Trusted to load map: File -> Trust Notebook</span><iframe srcdoc=\"&lt;!DOCTYPE html&gt;\n",
              "&lt;html&gt;\n",
              "&lt;head&gt;\n",
              "    \n",
              "    &lt;meta http-equiv=&quot;content-type&quot; content=&quot;text/html; charset=UTF-8&quot; /&gt;\n",
              "    \n",
              "        &lt;script&gt;\n",
              "            L_NO_TOUCH = false;\n",
              "            L_DISABLE_3D = false;\n",
              "        &lt;/script&gt;\n",
              "    \n",
              "    &lt;style&gt;html, body {width: 100%;height: 100%;margin: 0;padding: 0;}&lt;/style&gt;\n",
              "    &lt;style&gt;#map {position:absolute;top:0;bottom:0;right:0;left:0;}&lt;/style&gt;\n",
              "    &lt;script src=&quot;https://cdn.jsdelivr.net/npm/leaflet@1.9.3/dist/leaflet.js&quot;&gt;&lt;/script&gt;\n",
              "    &lt;script src=&quot;https://code.jquery.com/jquery-1.12.4.min.js&quot;&gt;&lt;/script&gt;\n",
              "    &lt;script src=&quot;https://cdn.jsdelivr.net/npm/bootstrap@5.2.2/dist/js/bootstrap.bundle.min.js&quot;&gt;&lt;/script&gt;\n",
              "    &lt;script src=&quot;https://cdnjs.cloudflare.com/ajax/libs/Leaflet.awesome-markers/2.0.2/leaflet.awesome-markers.js&quot;&gt;&lt;/script&gt;\n",
              "    &lt;link rel=&quot;stylesheet&quot; href=&quot;https://cdn.jsdelivr.net/npm/leaflet@1.9.3/dist/leaflet.css&quot;/&gt;\n",
              "    &lt;link rel=&quot;stylesheet&quot; href=&quot;https://cdn.jsdelivr.net/npm/bootstrap@5.2.2/dist/css/bootstrap.min.css&quot;/&gt;\n",
              "    &lt;link rel=&quot;stylesheet&quot; href=&quot;https://netdna.bootstrapcdn.com/bootstrap/3.0.0/css/bootstrap.min.css&quot;/&gt;\n",
              "    &lt;link rel=&quot;stylesheet&quot; href=&quot;https://cdn.jsdelivr.net/npm/@fortawesome/fontawesome-free@6.2.0/css/all.min.css&quot;/&gt;\n",
              "    &lt;link rel=&quot;stylesheet&quot; href=&quot;https://cdnjs.cloudflare.com/ajax/libs/Leaflet.awesome-markers/2.0.2/leaflet.awesome-markers.css&quot;/&gt;\n",
              "    &lt;link rel=&quot;stylesheet&quot; href=&quot;https://cdn.jsdelivr.net/gh/python-visualization/folium/folium/templates/leaflet.awesome.rotate.min.css&quot;/&gt;\n",
              "    \n",
              "            &lt;meta name=&quot;viewport&quot; content=&quot;width=device-width,\n",
              "                initial-scale=1.0, maximum-scale=1.0, user-scalable=no&quot; /&gt;\n",
              "            &lt;style&gt;\n",
              "                #map_ce453240bb358ec3674886c8f605082b {\n",
              "                    position: relative;\n",
              "                    width: 100.0%;\n",
              "                    height: 100.0%;\n",
              "                    left: 0.0%;\n",
              "                    top: 0.0%;\n",
              "                }\n",
              "                .leaflet-container { font-size: 1rem; }\n",
              "            &lt;/style&gt;\n",
              "        \n",
              "&lt;/head&gt;\n",
              "&lt;body&gt;\n",
              "    \n",
              "    \n",
              "            &lt;div class=&quot;folium-map&quot; id=&quot;map_ce453240bb358ec3674886c8f605082b&quot; &gt;&lt;/div&gt;\n",
              "        \n",
              "&lt;/body&gt;\n",
              "&lt;script&gt;\n",
              "    \n",
              "    \n",
              "            var map_ce453240bb358ec3674886c8f605082b = L.map(\n",
              "                &quot;map_ce453240bb358ec3674886c8f605082b&quot;,\n",
              "                {\n",
              "                    center: [50.7475, 7.175],\n",
              "                    crs: L.CRS.EPSG3857,\n",
              "                    zoom: 14,\n",
              "                    zoomControl: true,\n",
              "                    preferCanvas: false,\n",
              "                }\n",
              "            );\n",
              "\n",
              "            \n",
              "\n",
              "        \n",
              "    \n",
              "            var tile_layer_a885db69afe1645543b171e90d368bc3 = L.tileLayer(\n",
              "                &quot;https://{s}.tile.openstreetmap.org/{z}/{x}/{y}.png&quot;,\n",
              "                {&quot;attribution&quot;: &quot;Data by \\u0026copy; \\u003ca target=\\&quot;_blank\\&quot; href=\\&quot;http://openstreetmap.org\\&quot;\\u003eOpenStreetMap\\u003c/a\\u003e, under \\u003ca target=\\&quot;_blank\\&quot; href=\\&quot;http://www.openstreetmap.org/copyright\\&quot;\\u003eODbL\\u003c/a\\u003e.&quot;, &quot;detectRetina&quot;: false, &quot;maxNativeZoom&quot;: 18, &quot;maxZoom&quot;: 18, &quot;minZoom&quot;: 0, &quot;noWrap&quot;: false, &quot;opacity&quot;: 1, &quot;subdomains&quot;: &quot;abc&quot;, &quot;tms&quot;: false}\n",
              "            ).addTo(map_ce453240bb358ec3674886c8f605082b);\n",
              "        \n",
              "    \n",
              "            var rectangle_685362f4937526b06e694db64b1a463a = L.rectangle(\n",
              "                [[50.745, 7.17], [50.75, 7.18]],\n",
              "                {&quot;bubblingMouseEvents&quot;: true, &quot;color&quot;: &quot;blue&quot;, &quot;dashArray&quot;: null, &quot;dashOffset&quot;: null, &quot;fill&quot;: true, &quot;fillColor&quot;: &quot;blue&quot;, &quot;fillOpacity&quot;: 0.3, &quot;fillRule&quot;: &quot;evenodd&quot;, &quot;lineCap&quot;: &quot;round&quot;, &quot;lineJoin&quot;: &quot;round&quot;, &quot;noClip&quot;: false, &quot;opacity&quot;: 1.0, &quot;smoothFactor&quot;: 1.0, &quot;stroke&quot;: true, &quot;weight&quot;: 3}\n",
              "            ).addTo(map_ce453240bb358ec3674886c8f605082b);\n",
              "        \n",
              "&lt;/script&gt;\n",
              "&lt;/html&gt;\" style=\"position:absolute;width:100%;height:100%;left:0;top:0;border:none !important;\" allowfullscreen webkitallowfullscreen mozallowfullscreen></iframe></div></div>"
            ]
          },
          "metadata": {},
          "execution_count": 3
        }
      ],
      "source": [
        "import folium\n",
        "\n",
        "center_lat = (bbox[0] + bbox[2]) / 2\n",
        "center_lon = (bbox[1] + bbox[3]) / 2\n",
        "\n",
        "mymap = folium.Map(location=[center_lat, center_lon], zoom_start=14)\n",
        "\n",
        "bbox_rect = folium.Rectangle(bounds=[[bbox[0], bbox[1]], [bbox[2], bbox[3]]], color='blue', fill=True, fill_color='blue', fill_opacity=0.3)\n",
        "mymap.add_child(bbox_rect)\n",
        "mymap"
      ]
    },
    {
      "cell_type": "code",
      "execution_count": null,
      "id": "9209a283-e506-4180-9283-6d1c27b4b5e5",
      "metadata": {
        "id": "9209a283-e506-4180-9283-6d1c27b4b5e5"
      },
      "outputs": [],
      "source": [
        "import overpy\n",
        "import geojson\n",
        "querie = f\"node({bbox[0]},{bbox[1]},{bbox[2]},{bbox[3]});out;\"\n",
        "api = overpy.Overpass()\n",
        "result = api.query(querie)"
      ]
    },
    {
      "cell_type": "code",
      "execution_count": null,
      "id": "02252d56-c30f-44d3-9170-ee97dd56d739",
      "metadata": {
        "id": "02252d56-c30f-44d3-9170-ee97dd56d739"
      },
      "outputs": [],
      "source": [
        "import geojson\n",
        "from decimal import Decimal\n",
        "\n",
        "# Функция для преобразования объекта Overpass в GeoJSON\n",
        "def overpass_to_geojson(result):\n",
        "    features = []\n",
        "\n",
        "    for node in result.nodes:\n",
        "        lon = float(node.lon)\n",
        "        lat = float(node.lat)\n",
        "        feature = geojson.Feature(geometry=geojson.Point((lon, lat)), properties=node.tags)\n",
        "        features.append(feature)\n",
        "    return geojson.FeatureCollection(features)\n",
        "\n",
        "geojson_data = overpass_to_geojson(result)\n",
        "\n",
        "with open('example_data.geojson', 'w') as geojson_file:\n",
        "    geojson.dump(geojson_data, geojson_file)\n"
      ]
    },
    {
      "cell_type": "code",
      "execution_count": null,
      "id": "0484881d-4e59-4a89-9965-3ad56862aa4e",
      "metadata": {
        "colab": {
          "base_uri": "https://localhost:8080/"
        },
        "id": "0484881d-4e59-4a89-9965-3ad56862aa4e",
        "outputId": "e42505f8-a6da-4c85-c816-c0be13b8d3ef"
      },
      "outputs": [
        {
          "output_type": "execute_result",
          "data": {
            "text/plain": [
              "[<overpy.Node id=50878400 lat=50.7461788 lon=7.1742257>,\n",
              " <overpy.Node id=50878401 lat=50.7475747 lon=7.1744715>,\n",
              " <overpy.Node id=100792806 lat=50.7485965 lon=7.1714091>,\n",
              " <overpy.Node id=100792807 lat=50.7489471 lon=7.1705595>,\n",
              " <overpy.Node id=100793013 lat=50.7468514 lon=7.1702135>]"
            ]
          },
          "metadata": {},
          "execution_count": 14
        }
      ],
      "source": [
        "result.get_nodes()[:5]"
      ]
    },
    {
      "cell_type": "code",
      "execution_count": null,
      "id": "8dd339a1-972d-4c56-89a2-9e467a1d910c",
      "metadata": {
        "colab": {
          "base_uri": "https://localhost:8080/"
        },
        "id": "8dd339a1-972d-4c56-89a2-9e467a1d910c",
        "outputId": "aa4d7896-d804-45b9-a578-53ecee9fa6d0"
      },
      "outputs": [
        {
          "output_type": "stream",
          "name": "stdout",
          "text": [
            "Nodes: [<overpy.Node id=50878400 lat=50.7461788 lon=7.1742257>, <overpy.Node id=50878401 lat=50.7475747 lon=7.1744715>, <overpy.Node id=100792806 lat=50.7485965 lon=7.1714091>] \n",
            "Ways: [] \n",
            "Relations:[]\n"
          ]
        }
      ],
      "source": [
        "print(f'Nodes: {result.nodes[:3]} \\nWays: {result.ways[:]} \\nRelations:{result.relations[:]}')"
      ]
    },
    {
      "cell_type": "markdown",
      "id": "343ec67e-d513-4bea-8c96-082bd4de451b",
      "metadata": {
        "id": "343ec67e-d513-4bea-8c96-082bd4de451b"
      },
      "source": [
        "Объект result, возвращаемый после запроса к API Overpass, содержит три основных типа географических объектов: узлы (nodes), линии (ways) и отношения (relations). Их краткое описание:\n",
        "\n",
        "Nodes (Узлы):\n",
        "Узлы представляют собой отдельные точечные местоположения на карте, такие как углы зданий, перекрестки дорог или другие интересные точки. Каждый узел имеет свои координаты (широту и долготу) и может иметь дополнительные атрибуты, называемые тегами, которые описывают этот узел (например, тип узла, название и т.д.).\n",
        "\n",
        "Ways (Линии):\n",
        "Линии представляют собой участки дорог, рек, зданий или других объектов, которые можно представить как последовательность узлов, объединенных вместе. Как и узлы, линии могут иметь свои теги, описывающие их свойства.\n",
        "\n",
        "Relations (Отношения):\n",
        "Отношения представляют собой связи между узлами, линиями и другими отношениями. Они используются для описания более сложных структур на карте, таких как границы административных областей, маршруты общественного транспорта или группы связанных объектов. Как и узлы и линии, отношения могут также содержать теги для дополнительной информации."
      ]
    },
    {
      "cell_type": "markdown",
      "id": "fc7db8a6-4af8-4a8d-aaba-20023c75c4f7",
      "metadata": {
        "id": "fc7db8a6-4af8-4a8d-aaba-20023c75c4f7"
      },
      "source": [
        "## Вывод:"
      ]
    },
    {
      "cell_type": "markdown",
      "id": "319e0d46-20f6-4bdf-805a-1845f59ac8a8",
      "metadata": {
        "id": "319e0d46-20f6-4bdf-805a-1845f59ac8a8"
      },
      "source": [
        "Данные, полученные из запроса к OpenStreetMap через Overpass API, обычно представляются в виде структуры данных JSON. Этот формат JSON содержит информацию о географических объектах (узлах, линиях, отношениях) в указанной области (bbox) и в соответствии с заданными критериями фильтрации.\n",
        "Пример:"
      ]
    },
    {
      "cell_type": "code",
      "execution_count": null,
      "id": "5878b676-08b2-4217-ae09-e3473875d730",
      "metadata": {
        "id": "5878b676-08b2-4217-ae09-e3473875d730"
      },
      "outputs": [],
      "source": [
        "{\n",
        "  \"version\": 0.6,\n",
        "  \"generator\": \"Overpass API\",\n",
        "  \"osm3s\": {\n",
        "    \"timestamp_osm_base\": \"2024-03-15T10:25:41Z\",\n",
        "    \"copyright\": \"The data included in this document is from www.openstreetmap.org. The data is made available under ODbL.\"\n",
        "  },\n",
        "  \"elements\": [\n",
        "    {\n",
        "      \"type\": \"node\",\n",
        "      \"id\": 2795252,\n",
        "      \"lat\": 50.7481449,\n",
        "      \"lon\": 7.1777235,\n",
        "      \"tags\": {\n",
        "        \"name\": \"Example Node\",\n",
        "        \"amenity\": \"restaurant\"\n",
        "      } ...."
      ]
    },
    {
      "cell_type": "code",
      "execution_count": null,
      "id": "46ecfc80-d632-4c0c-8c87-84f10b61365c",
      "metadata": {
        "id": "46ecfc80-d632-4c0c-8c87-84f10b61365c"
      },
      "outputs": [],
      "source": []
    }
  ],
  "metadata": {
    "kernelspec": {
      "display_name": "Python 3 (ipykernel)",
      "language": "python",
      "name": "python3"
    },
    "language_info": {
      "codemirror_mode": {
        "name": "ipython",
        "version": 3
      },
      "file_extension": ".py",
      "mimetype": "text/x-python",
      "name": "python",
      "nbconvert_exporter": "python",
      "pygments_lexer": "ipython3",
      "version": "3.9.6"
    },
    "colab": {
      "provenance": []
    }
  },
  "nbformat": 4,
  "nbformat_minor": 5
}